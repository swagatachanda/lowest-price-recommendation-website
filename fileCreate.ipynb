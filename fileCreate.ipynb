{
 "cells": [
  {
   "cell_type": "markdown",
   "metadata": {},
   "source": [
    "## Importing the required libraries"
   ]
  },
  {
   "cell_type": "code",
   "execution_count": 495,
   "metadata": {},
   "outputs": [],
   "source": [
    "from selenium import webdriver\n",
    "from webdriver_manager.chrome import ChromeDriverManager\n",
    "from selenium.webdriver.common.by import By\n",
    "import re\n",
    "import pandas as pd"
   ]
  },
  {
   "cell_type": "markdown",
   "metadata": {},
   "source": [
    "## Auto installation of the chrome driver according to the system chrome version"
   ]
  },
  {
   "cell_type": "code",
   "execution_count": 496,
   "metadata": {},
   "outputs": [
    {
     "name": "stderr",
     "output_type": "stream",
     "text": [
      "\n",
      "\n",
      "====== WebDriver manager ======\n",
      "Current google-chrome version is 100.0.4896\n",
      "Get LATEST chromedriver version for 100.0.4896 google-chrome\n",
      "Driver [C:\\Users\\KIIT\\.wdm\\drivers\\chromedriver\\win32\\100.0.4896.60\\chromedriver.exe] found in cache\n",
      "C:\\Users\\KIIT\\AppData\\Local\\Temp/ipykernel_27296/2277734814.py:1: DeprecationWarning: executable_path has been deprecated, please pass in a Service object\n",
      "  driver = webdriver.Chrome(ChromeDriverManager().install())\n"
     ]
    }
   ],
   "source": [
    "driver = webdriver.Chrome(ChromeDriverManager().install())\n",
    "driver.maximize_window()"
   ]
  },
  {
   "cell_type": "markdown",
   "metadata": {},
   "source": [
    "## Taking input for the query search"
   ]
  },
  {
   "cell_type": "code",
   "execution_count": 497,
   "metadata": {},
   "outputs": [
    {
     "name": "stdout",
     "output_type": "stream",
     "text": [
      "dell laptop\n"
     ]
    }
   ],
   "source": [
    "find_query = input(\"Search for any product...\")\n",
    "print(find_query)\n",
    "\n",
    "product_list = []"
   ]
  },
  {
   "cell_type": "markdown",
   "metadata": {},
   "source": [
    "## Retrieving and storing the product datas and their prices from the websites in a list"
   ]
  },
  {
   "cell_type": "markdown",
   "metadata": {},
   "source": [
    "## Webscraping from amazon website and displaying the results found"
   ]
  },
  {
   "cell_type": "code",
   "execution_count": 498,
   "metadata": {},
   "outputs": [],
   "source": [
    "subset = find_query.split()"
   ]
  },
  {
   "cell_type": "code",
   "execution_count": 499,
   "metadata": {},
   "outputs": [
    {
     "name": "stdout",
     "output_type": "stream",
     "text": [
      "Dell New Inspiron 5410 2in1 Laptop Intel i3-1125G4, 8GB, 256GB SSD, Win 11 + MSO'21, 14\" (35.56 cms) Touch FHD 60Hz Display, Platinum Silver Color, FPR + Backlit KB (D560725WIN9SE), 1.5Kgs   53,990 \n",
      "\n",
      "Dell New Inspiron 5418 Laptop Intel i5-11320H, 16GB DDR4, 512Gb SSD, Win 11 + MS Office'21, 14\" (35.56 cms) FHD 250 Nits Display, Platinum Silver, FPR + Backlit KB (D560633WIN9S), 1.46Kgs   65,990 \n",
      "\n",
      "Dell New Inspiron 3511 Laptop Intel i3-1115G4 15.6\" (39.62Cms) Anti Glare FHD, 8GB DDR4, 1TB, Win 11 + MS Office'21, Carbon Black, 1.8Kgs (D560646WIN9B)   58,390 \n",
      "\n",
      "Dell New Vostro 3400 Laptop Intel i5-1135G7, 16GB DDR4, 512GB SSD, Win 11+MSO'21, 14” (35.56 Cms) FHD AG, Dune, Backlit KB, 1.59Kgs (D552214WIN9D)   38,890 \n",
      "\n",
      "Dell 14 (2021) i5-1155G7 2in1 Touch Screen Laptop, 8GB, 512GB SSD, Win 11 + MSO'21, 14\" (35.56 cms) FHD, Platinum Silver Color, FPR + Backlit KB & Active Pen (Inspiron 5410, D560668WIN9S)   65,990 \n",
      "\n",
      "Dell Vostro 3401 Laptop - Intel i3-1115G4, 8GB DDR4, 256GB SSD, Windows 10 + MS Office, Integrated Graphics, 14 Inches 1920 x 1080 FHD Display, [Dune Color, D552201WIN9DE, 1.59kg]   58,390 \n",
      "\n",
      "Dell New Inspiron 5410 2in1 Laptop Intel i3-1125G4, 8GB, 256GB SSD, Win 11 + MSO'21, 14\" (35.56 cms) Touch FHD 60Hz Display, Platinum Silver Color, FPR + Backlit KB (D560725WIN9SE), 1.5Kgs   38,490 \n",
      "\n",
      "Dell New Inspiron 5418 Laptop Intel i5-11320H, 16GB DDR4, 512Gb SSD, Win 11 + MS Office'21, 14\" (35.56 cms) FHD 250 Nits Display, Platinum Silver, FPR + Backlit KB (D560633WIN9S), 1.46Kgs    \n",
      "\n",
      "Dell Vostro 3510 Laptop |15.6-inch FHD | Core i5 1135G7- 11th Gen |8GB RAM + 512 SSD |Intel UHD Graphics |Win11+MS Office H&S 2021 -Backlit KB- Titan Grey.   41,199 \n",
      "\n",
      "Dell Inspiron 14 5410 Laptop |14'' inch FHD |Intel Core i5-11320H |8GB RAM 512 SSD-Iris Xe Graphics |Win 11+MS Office H&S 2021+Backlit KB -Platinum Silver-1.46kg   53,990 \n",
      "\n",
      "Dell Vostro 3400 Intel i3-1115G4 14 inches FHD Display Laptop (4GB / 1TB HDD + 256GB SSD / Integrated Graphics / Windows 10 + MSO / Dune Color) D552164WIN9DE, 1.59kg   65,990 \n",
      "\n",
      "Dell New 14 AMD Ryzen 3-3250U 14 inches FHD Display Laptop (8GB, 1TB HDD, Windows 11 + MS Office'21, Vega Graphics, Accent Black, Vostro 3405, D552234WIN9B), 1.59Kg   50,590 \n",
      "\n",
      "Dell New 14 Intel i3-1005G1 Laptop, 4Gb RAM, 1TB HDD + 256GB SSD, 14 inches FHD AG Display, Windows 10+ MSO, Black (Vostro 3401, D552151WIN9BE), 1.58kg   57,990 \n",
      "\n",
      "Dell Inspiron 5418 Intel i5-11300H 14 inches FHD Display Laptop ( 16GB / 512GB SSD / Integrated Graphics / Windows 10 + MSO / Backlit KB + FPR / Silver Color) D560481WIN9S, 1.43kg   61,470 \n",
      "\n"
     ]
    }
   ],
   "source": [
    "driver.get(f'https://www.amazon.in/s?k={find_query}')\n",
    "all_product = driver.find_elements(By.XPATH, '//span[@class=\"a-size-medium a-color-base a-text-normal\"]')\n",
    "all_product_price = driver.find_elements(By.XPATH, '//span[@class=\"a-price-whole\"]')\n",
    "for idx in range(0, len(all_product)):\n",
    "    eachProduct = all_product[idx]\n",
    "    list_str = []\n",
    "    for substring in subset:\n",
    "        list_str.append(f'([^.]*{substring}[^.]*)')\n",
    "    product_match = re.search(\"\".join(list_str),eachProduct.text , re.IGNORECASE)\n",
    "    if(product_match):\n",
    "        print(eachProduct.text, \" \", all_product_price[idx].text, \"\\n\")\n",
    "        temp_dict={\"site\": \"amazon\" , \"name\" : eachProduct.text, \"price\" : all_product_price[idx].text.replace(\",\",\"\")}\n",
    "        product_list.append(temp_dict)"
   ]
  },
  {
   "cell_type": "markdown",
   "metadata": {},
   "source": [
    "## Webscraping from flipkart website and displaying the results found"
   ]
  },
  {
   "cell_type": "code",
   "execution_count": 500,
   "metadata": {},
   "outputs": [
    {
     "name": "stdout",
     "output_type": "stream",
     "text": [
      "DELL Vostro Core i3 11th Gen - (8 GB/256 GB SSD/Windows 10) VOSTRO 3400 Thin and Light Laptop   38,990 \n",
      "\n",
      "DELL Vostro Core i3 10th Gen - (8 GB/256 GB SSD/Windows 10 Home) Vostro 3401 Thin and Light Laptop   37,990 \n",
      "\n",
      "DELL Vostro Core i3 10th Gen - (4 GB/256 GB SSD/Windows 10 Home) Vostro 3401 Thin and Light Laptop   38,190 \n",
      "\n",
      "DELL Inspiron Core i3 11th Gen - (8 GB/1 TB HDD/Windows 10) INSPIRON 3501 Thin and Light Laptop   42,590 \n",
      "\n",
      "DELL Inspiron Core i5 11th Gen - (8 GB/512 GB SSD/Windows 11 Home) Inspiron 5410 2 in 1 Laptop   69,990 \n",
      "\n",
      "DELL Vostro Core i3 11th Gen - (8 GB/256 GB SSD/Windows 11 Home) Vostro 3400 Thin and Light Laptop   38,990 \n",
      "\n",
      "DELL Inspiron Core i5 11th Gen - (16 GB/512 GB SSD/Windows 10) Inspiron 5418 Thin and Light Laptop   70,490 \n",
      "\n",
      "DELL Inspiron Core i3 10th Gen - (4 GB/256 GB SSD/Windows 10 Home) Inspiron 3501 Laptop   39,490 \n",
      "\n",
      "DELL Ryzen 3 Dual Core 3250U - (8 GB/256 GB SSD/Windows 10) Inspiron 3515 Thin and Light Laptop   39,390 \n",
      "\n",
      "DELL Inspiron Core i3 11th Gen - (8 GB/256 GB SSD/Windows 11 Home) INSPIRON 5410 2 in 1 Laptop   49,990 \n",
      "\n",
      "DELL Vostro Ryzen 5 Hexa Core 5500U - (8 GB/512 GB SSD/Windows 10) Vostro 5415 Thin and Light Laptop   53,990 \n",
      "\n",
      "DELL Inspiron Core i3 10th Gen - (8 GB/512 GB SSD/Windows 11 Home) Inspiron 3511 Thin and Light Laptop   47,990 \n",
      "\n",
      "DELL Core i3 11th Gen - (8 GB/512 GB SSD/Windows 11 Home) Inspiron 5410 2 in 1 Laptop   59,990 \n",
      "\n"
     ]
    }
   ],
   "source": [
    "driver.get(f'https://www.flipkart.com/search?q={find_query}')\n",
    "if(driver.find_elements(By.XPATH, '//div[@class=\"_4rR01T\"]')==[]):\n",
    "    all_product = driver.find_elements(By.XPATH, '//a[@class=\"s1Q9rs\"]')\n",
    "else:\n",
    "    all_product = driver.find_elements(By.XPATH, '//div[@class=\"_4rR01T\"]') \n",
    "if(driver.find_elements(By.XPATH, '//div[@class=\"_4rR01T\"]')==[]):\n",
    "    all_product_price = driver.find_elements(By.XPATH, '//div[@class=\"_30jeq3\"]')\n",
    "else:\n",
    "    all_product_price = driver.find_elements(By.XPATH, '//div[@class=\"_30jeq3 _1_WHN1\"]') \n",
    "for idx in range(0, len(all_product)):\n",
    "    eachProduct = all_product[idx]\n",
    "    list_str = []\n",
    "    for substring in subset:\n",
    "        list_str.append(f'([^.]*{substring}[^.]*)')\n",
    "    product_match = re.search(\"\".join(list_str),eachProduct.text , re.IGNORECASE)\n",
    "    if(product_match):\n",
    "        print(eachProduct.text, \" \", all_product_price[idx].text[1:], \"\\n\")\n",
    "        temp_dict={ \"site\" : \"flipkart\",\"name\" : eachProduct.text, \"price\" : all_product_price[idx].text[1:].replace(\",\",\"\")}\n",
    "        product_list.append(temp_dict)\n"
   ]
  },
  {
   "cell_type": "markdown",
   "metadata": {},
   "source": [
    "## Webscraping from snapdeal website and displaying the results found"
   ]
  },
  {
   "cell_type": "code",
   "execution_count": 501,
   "metadata": {},
   "outputs": [
    {
     "name": "stdout",
     "output_type": "stream",
     "text": [
      "KALARKARI Laptop Skin DellBrand Premium Matte vinyl HD printed Easy to Install Laptop Skin/Sticker/Decal/Vinyl/Cover for all size laptops upto 15.6   Rs. 169 \n",
      "\n",
      "Laptop Skin Dell_symbol Premium Matte vinyl HD printed Easy to Install Laptop Skin/Sticker/Decal/Vinyl/Cover for all size laptops upto 15.6   Rs. 169 \n",
      "\n",
      "Laptop Skin Dell logo_symbol Premium Matte vinyl HD printed Easy to Install Laptop Skin/Sticker/Decal/Vinyl/Cover for all size laptops upto 15.6   Rs. 169 \n",
      "\n",
      "MeSleep Dell Vs Apple Laptop Decal   Rs. 189 \n",
      "\n",
      "RADANYA Laptop Skins Stickers | Fits Dell, Hp, Toshiba, Acer, Asus and for All Laptop Models (Upto 15.6 inches)-Grey   Rs. 189 \n",
      "\n"
     ]
    }
   ],
   "source": [
    "driver.get(f'https://www.snapdeal.com/search?keyword={find_query}')\n",
    "all_product = driver.find_elements(By.XPATH, '//p[@class=\"product-title\"]')\n",
    "all_product_price = driver.find_elements(By.XPATH, '//span[@class=\"lfloat product-price\"]')\n",
    "for idx in range(0, len(all_product)):\n",
    "    eachProduct = all_product[idx]\n",
    "    list_str = []\n",
    "    for substring in subset:\n",
    "        list_str.append(f'([^.]*{substring}[^.]*)')\n",
    "    product_match = re.search(\"\".join(list_str),eachProduct.text , re.IGNORECASE)\n",
    "    if(product_match):\n",
    "        print(eachProduct.text, \" \", all_product_price[idx].text, \"\\n\")\n",
    "        temp_dict={\"site\": \"snapdeal\" , \"name\" : eachProduct.text, \"price\" : all_product_price[idx].text[4::].replace(\",\",\"\")}\n",
    "        product_list.append(temp_dict)"
   ]
  },
  {
   "cell_type": "markdown",
   "metadata": {},
   "source": [
    "## Displaying the product list"
   ]
  },
  {
   "cell_type": "code",
   "execution_count": 502,
   "metadata": {},
   "outputs": [
    {
     "name": "stdout",
     "output_type": "stream",
     "text": [
      "[{'site': 'amazon', 'name': 'Dell New Inspiron 5410 2in1 Laptop Intel i3-1125G4, 8GB, 256GB SSD, Win 11 + MSO\\'21, 14\" (35.56 cms) Touch FHD 60Hz Display, Platinum Silver Color, FPR + Backlit KB (D560725WIN9SE), 1.5Kgs', 'price': '53990'}, {'site': 'amazon', 'name': 'Dell New Inspiron 5418 Laptop Intel i5-11320H, 16GB DDR4, 512Gb SSD, Win 11 + MS Office\\'21, 14\" (35.56 cms) FHD 250 Nits Display, Platinum Silver, FPR + Backlit KB (D560633WIN9S), 1.46Kgs', 'price': '65990'}, {'site': 'amazon', 'name': 'Dell New Inspiron 3511 Laptop Intel i3-1115G4 15.6\" (39.62Cms) Anti Glare FHD, 8GB DDR4, 1TB, Win 11 + MS Office\\'21, Carbon Black, 1.8Kgs (D560646WIN9B)', 'price': '58390'}, {'site': 'amazon', 'name': \"Dell New Vostro 3400 Laptop Intel i5-1135G7, 16GB DDR4, 512GB SSD, Win 11+MSO'21, 14” (35.56 Cms) FHD AG, Dune, Backlit KB, 1.59Kgs (D552214WIN9D)\", 'price': '38890'}, {'site': 'amazon', 'name': 'Dell 14 (2021) i5-1155G7 2in1 Touch Screen Laptop, 8GB, 512GB SSD, Win 11 + MSO\\'21, 14\" (35.56 cms) FHD, Platinum Silver Color, FPR + Backlit KB & Active Pen (Inspiron 5410, D560668WIN9S)', 'price': '65990'}, {'site': 'amazon', 'name': 'Dell Vostro 3401 Laptop - Intel i3-1115G4, 8GB DDR4, 256GB SSD, Windows 10 + MS Office, Integrated Graphics, 14 Inches 1920 x 1080 FHD Display, [Dune Color, D552201WIN9DE, 1.59kg]', 'price': '58390'}, {'site': 'amazon', 'name': 'Dell New Inspiron 5410 2in1 Laptop Intel i3-1125G4, 8GB, 256GB SSD, Win 11 + MSO\\'21, 14\" (35.56 cms) Touch FHD 60Hz Display, Platinum Silver Color, FPR + Backlit KB (D560725WIN9SE), 1.5Kgs', 'price': '38490'}, {'site': 'amazon', 'name': 'Dell New Inspiron 5418 Laptop Intel i5-11320H, 16GB DDR4, 512Gb SSD, Win 11 + MS Office\\'21, 14\" (35.56 cms) FHD 250 Nits Display, Platinum Silver, FPR + Backlit KB (D560633WIN9S), 1.46Kgs', 'price': ''}, {'site': 'amazon', 'name': 'Dell Vostro 3510 Laptop |15.6-inch FHD | Core i5 1135G7- 11th Gen |8GB RAM + 512 SSD |Intel UHD Graphics |Win11+MS Office H&S 2021 -Backlit KB- Titan Grey.', 'price': '41199'}, {'site': 'amazon', 'name': \"Dell Inspiron 14 5410 Laptop |14'' inch FHD |Intel Core i5-11320H |8GB RAM 512 SSD-Iris Xe Graphics |Win 11+MS Office H&S 2021+Backlit KB -Platinum Silver-1.46kg\", 'price': '53990'}, {'site': 'amazon', 'name': 'Dell Vostro 3400 Intel i3-1115G4 14 inches FHD Display Laptop (4GB / 1TB HDD + 256GB SSD / Integrated Graphics / Windows 10 + MSO / Dune Color) D552164WIN9DE, 1.59kg', 'price': '65990'}, {'site': 'amazon', 'name': \"Dell New 14 AMD Ryzen 3-3250U 14 inches FHD Display Laptop (8GB, 1TB HDD, Windows 11 + MS Office'21, Vega Graphics, Accent Black, Vostro 3405, D552234WIN9B), 1.59Kg\", 'price': '50590'}, {'site': 'amazon', 'name': 'Dell New 14 Intel i3-1005G1 Laptop, 4Gb RAM, 1TB HDD + 256GB SSD, 14 inches FHD AG Display, Windows 10+ MSO, Black (Vostro 3401, D552151WIN9BE), 1.58kg', 'price': '57990'}, {'site': 'amazon', 'name': 'Dell Inspiron 5418 Intel i5-11300H 14 inches FHD Display Laptop ( 16GB / 512GB SSD / Integrated Graphics / Windows 10 + MSO / Backlit KB + FPR / Silver Color) D560481WIN9S, 1.43kg', 'price': '61470'}, {'site': 'flipkart', 'name': 'DELL Vostro Core i3 11th Gen - (8 GB/256 GB SSD/Windows 10) VOSTRO 3400 Thin and Light Laptop', 'price': '38990'}, {'site': 'flipkart', 'name': 'DELL Vostro Core i3 10th Gen - (8 GB/256 GB SSD/Windows 10 Home) Vostro 3401 Thin and Light Laptop', 'price': '37990'}, {'site': 'flipkart', 'name': 'DELL Vostro Core i3 10th Gen - (4 GB/256 GB SSD/Windows 10 Home) Vostro 3401 Thin and Light Laptop', 'price': '38190'}, {'site': 'flipkart', 'name': 'DELL Inspiron Core i3 11th Gen - (8 GB/1 TB HDD/Windows 10) INSPIRON 3501 Thin and Light Laptop', 'price': '42590'}, {'site': 'flipkart', 'name': 'DELL Inspiron Core i5 11th Gen - (8 GB/512 GB SSD/Windows 11 Home) Inspiron 5410 2 in 1 Laptop', 'price': '69990'}, {'site': 'flipkart', 'name': 'DELL Vostro Core i3 11th Gen - (8 GB/256 GB SSD/Windows 11 Home) Vostro 3400 Thin and Light Laptop', 'price': '38990'}, {'site': 'flipkart', 'name': 'DELL Inspiron Core i5 11th Gen - (16 GB/512 GB SSD/Windows 10) Inspiron 5418 Thin and Light Laptop', 'price': '70490'}, {'site': 'flipkart', 'name': 'DELL Inspiron Core i3 10th Gen - (4 GB/256 GB SSD/Windows 10 Home) Inspiron 3501 Laptop', 'price': '39490'}, {'site': 'flipkart', 'name': 'DELL Ryzen 3 Dual Core 3250U - (8 GB/256 GB SSD/Windows 10) Inspiron 3515 Thin and Light Laptop', 'price': '39390'}, {'site': 'flipkart', 'name': 'DELL Inspiron Core i3 11th Gen - (8 GB/256 GB SSD/Windows 11 Home) INSPIRON 5410 2 in 1 Laptop', 'price': '49990'}, {'site': 'flipkart', 'name': 'DELL Vostro Ryzen 5 Hexa Core 5500U - (8 GB/512 GB SSD/Windows 10) Vostro 5415 Thin and Light Laptop', 'price': '53990'}, {'site': 'flipkart', 'name': 'DELL Inspiron Core i3 10th Gen - (8 GB/512 GB SSD/Windows 11 Home) Inspiron 3511 Thin and Light Laptop', 'price': '47990'}, {'site': 'flipkart', 'name': 'DELL Core i3 11th Gen - (8 GB/512 GB SSD/Windows 11 Home) Inspiron 5410 2 in 1 Laptop', 'price': '59990'}, {'site': 'snapdeal', 'name': 'KALARKARI Laptop Skin DellBrand Premium Matte vinyl HD printed Easy to Install Laptop Skin/Sticker/Decal/Vinyl/Cover for all size laptops upto 15.6', 'price': '169'}, {'site': 'snapdeal', 'name': 'Laptop Skin Dell_symbol Premium Matte vinyl HD printed Easy to Install Laptop Skin/Sticker/Decal/Vinyl/Cover for all size laptops upto 15.6', 'price': '169'}, {'site': 'snapdeal', 'name': 'Laptop Skin Dell logo_symbol Premium Matte vinyl HD printed Easy to Install Laptop Skin/Sticker/Decal/Vinyl/Cover for all size laptops upto 15.6', 'price': '169'}, {'site': 'snapdeal', 'name': 'MeSleep Dell Vs Apple Laptop Decal', 'price': '189'}, {'site': 'snapdeal', 'name': 'RADANYA Laptop Skins Stickers | Fits Dell, Hp, Toshiba, Acer, Asus and for All Laptop Models (Upto 15.6 inches)-Grey', 'price': '189'}]\n"
     ]
    }
   ],
   "source": [
    "print(product_list)"
   ]
  },
  {
   "cell_type": "markdown",
   "metadata": {},
   "source": [
    "## Converting the product list into a dataframe"
   ]
  },
  {
   "cell_type": "code",
   "execution_count": 503,
   "metadata": {},
   "outputs": [],
   "source": [
    "df = pd.DataFrame(product_list)"
   ]
  },
  {
   "cell_type": "code",
   "execution_count": 504,
   "metadata": {},
   "outputs": [
    {
     "data": {
      "text/html": [
       "<div>\n",
       "<style scoped>\n",
       "    .dataframe tbody tr th:only-of-type {\n",
       "        vertical-align: middle;\n",
       "    }\n",
       "\n",
       "    .dataframe tbody tr th {\n",
       "        vertical-align: top;\n",
       "    }\n",
       "\n",
       "    .dataframe thead th {\n",
       "        text-align: right;\n",
       "    }\n",
       "</style>\n",
       "<table border=\"1\" class=\"dataframe\">\n",
       "  <thead>\n",
       "    <tr style=\"text-align: right;\">\n",
       "      <th></th>\n",
       "      <th>site</th>\n",
       "      <th>name</th>\n",
       "      <th>price</th>\n",
       "    </tr>\n",
       "  </thead>\n",
       "  <tbody>\n",
       "    <tr>\n",
       "      <th>0</th>\n",
       "      <td>amazon</td>\n",
       "      <td>Dell New Inspiron 5410 2in1 Laptop Intel i3-11...</td>\n",
       "      <td>53990</td>\n",
       "    </tr>\n",
       "    <tr>\n",
       "      <th>1</th>\n",
       "      <td>amazon</td>\n",
       "      <td>Dell New Inspiron 5418 Laptop Intel i5-11320H,...</td>\n",
       "      <td>65990</td>\n",
       "    </tr>\n",
       "    <tr>\n",
       "      <th>2</th>\n",
       "      <td>amazon</td>\n",
       "      <td>Dell New Inspiron 3511 Laptop Intel i3-1115G4 ...</td>\n",
       "      <td>58390</td>\n",
       "    </tr>\n",
       "    <tr>\n",
       "      <th>3</th>\n",
       "      <td>amazon</td>\n",
       "      <td>Dell New Vostro 3400 Laptop Intel i5-1135G7, 1...</td>\n",
       "      <td>38890</td>\n",
       "    </tr>\n",
       "    <tr>\n",
       "      <th>4</th>\n",
       "      <td>amazon</td>\n",
       "      <td>Dell 14 (2021) i5-1155G7 2in1 Touch Screen Lap...</td>\n",
       "      <td>65990</td>\n",
       "    </tr>\n",
       "    <tr>\n",
       "      <th>5</th>\n",
       "      <td>amazon</td>\n",
       "      <td>Dell Vostro 3401 Laptop - Intel i3-1115G4, 8GB...</td>\n",
       "      <td>58390</td>\n",
       "    </tr>\n",
       "    <tr>\n",
       "      <th>6</th>\n",
       "      <td>amazon</td>\n",
       "      <td>Dell New Inspiron 5410 2in1 Laptop Intel i3-11...</td>\n",
       "      <td>38490</td>\n",
       "    </tr>\n",
       "    <tr>\n",
       "      <th>7</th>\n",
       "      <td>amazon</td>\n",
       "      <td>Dell New Inspiron 5418 Laptop Intel i5-11320H,...</td>\n",
       "      <td></td>\n",
       "    </tr>\n",
       "    <tr>\n",
       "      <th>8</th>\n",
       "      <td>amazon</td>\n",
       "      <td>Dell Vostro 3510 Laptop |15.6-inch FHD | Core ...</td>\n",
       "      <td>41199</td>\n",
       "    </tr>\n",
       "    <tr>\n",
       "      <th>9</th>\n",
       "      <td>amazon</td>\n",
       "      <td>Dell Inspiron 14 5410 Laptop |14'' inch FHD |I...</td>\n",
       "      <td>53990</td>\n",
       "    </tr>\n",
       "    <tr>\n",
       "      <th>10</th>\n",
       "      <td>amazon</td>\n",
       "      <td>Dell Vostro 3400 Intel i3-1115G4 14 inches FHD...</td>\n",
       "      <td>65990</td>\n",
       "    </tr>\n",
       "    <tr>\n",
       "      <th>11</th>\n",
       "      <td>amazon</td>\n",
       "      <td>Dell New 14 AMD Ryzen 3-3250U 14 inches FHD Di...</td>\n",
       "      <td>50590</td>\n",
       "    </tr>\n",
       "    <tr>\n",
       "      <th>12</th>\n",
       "      <td>amazon</td>\n",
       "      <td>Dell New 14 Intel i3-1005G1 Laptop, 4Gb RAM, 1...</td>\n",
       "      <td>57990</td>\n",
       "    </tr>\n",
       "    <tr>\n",
       "      <th>13</th>\n",
       "      <td>amazon</td>\n",
       "      <td>Dell Inspiron 5418 Intel i5-11300H 14 inches F...</td>\n",
       "      <td>61470</td>\n",
       "    </tr>\n",
       "    <tr>\n",
       "      <th>14</th>\n",
       "      <td>flipkart</td>\n",
       "      <td>DELL Vostro Core i3 11th Gen - (8 GB/256 GB SS...</td>\n",
       "      <td>38990</td>\n",
       "    </tr>\n",
       "    <tr>\n",
       "      <th>15</th>\n",
       "      <td>flipkart</td>\n",
       "      <td>DELL Vostro Core i3 10th Gen - (8 GB/256 GB SS...</td>\n",
       "      <td>37990</td>\n",
       "    </tr>\n",
       "    <tr>\n",
       "      <th>16</th>\n",
       "      <td>flipkart</td>\n",
       "      <td>DELL Vostro Core i3 10th Gen - (4 GB/256 GB SS...</td>\n",
       "      <td>38190</td>\n",
       "    </tr>\n",
       "    <tr>\n",
       "      <th>17</th>\n",
       "      <td>flipkart</td>\n",
       "      <td>DELL Inspiron Core i3 11th Gen - (8 GB/1 TB HD...</td>\n",
       "      <td>42590</td>\n",
       "    </tr>\n",
       "    <tr>\n",
       "      <th>18</th>\n",
       "      <td>flipkart</td>\n",
       "      <td>DELL Inspiron Core i5 11th Gen - (8 GB/512 GB ...</td>\n",
       "      <td>69990</td>\n",
       "    </tr>\n",
       "    <tr>\n",
       "      <th>19</th>\n",
       "      <td>flipkart</td>\n",
       "      <td>DELL Vostro Core i3 11th Gen - (8 GB/256 GB SS...</td>\n",
       "      <td>38990</td>\n",
       "    </tr>\n",
       "  </tbody>\n",
       "</table>\n",
       "</div>"
      ],
      "text/plain": [
       "        site                                               name  price\n",
       "0     amazon  Dell New Inspiron 5410 2in1 Laptop Intel i3-11...  53990\n",
       "1     amazon  Dell New Inspiron 5418 Laptop Intel i5-11320H,...  65990\n",
       "2     amazon  Dell New Inspiron 3511 Laptop Intel i3-1115G4 ...  58390\n",
       "3     amazon  Dell New Vostro 3400 Laptop Intel i5-1135G7, 1...  38890\n",
       "4     amazon  Dell 14 (2021) i5-1155G7 2in1 Touch Screen Lap...  65990\n",
       "5     amazon  Dell Vostro 3401 Laptop - Intel i3-1115G4, 8GB...  58390\n",
       "6     amazon  Dell New Inspiron 5410 2in1 Laptop Intel i3-11...  38490\n",
       "7     amazon  Dell New Inspiron 5418 Laptop Intel i5-11320H,...       \n",
       "8     amazon  Dell Vostro 3510 Laptop |15.6-inch FHD | Core ...  41199\n",
       "9     amazon  Dell Inspiron 14 5410 Laptop |14'' inch FHD |I...  53990\n",
       "10    amazon  Dell Vostro 3400 Intel i3-1115G4 14 inches FHD...  65990\n",
       "11    amazon  Dell New 14 AMD Ryzen 3-3250U 14 inches FHD Di...  50590\n",
       "12    amazon  Dell New 14 Intel i3-1005G1 Laptop, 4Gb RAM, 1...  57990\n",
       "13    amazon  Dell Inspiron 5418 Intel i5-11300H 14 inches F...  61470\n",
       "14  flipkart  DELL Vostro Core i3 11th Gen - (8 GB/256 GB SS...  38990\n",
       "15  flipkart  DELL Vostro Core i3 10th Gen - (8 GB/256 GB SS...  37990\n",
       "16  flipkart  DELL Vostro Core i3 10th Gen - (4 GB/256 GB SS...  38190\n",
       "17  flipkart  DELL Inspiron Core i3 11th Gen - (8 GB/1 TB HD...  42590\n",
       "18  flipkart  DELL Inspiron Core i5 11th Gen - (8 GB/512 GB ...  69990\n",
       "19  flipkart  DELL Vostro Core i3 11th Gen - (8 GB/256 GB SS...  38990"
      ]
     },
     "execution_count": 504,
     "metadata": {},
     "output_type": "execute_result"
    }
   ],
   "source": [
    "df.head(20)"
   ]
  },
  {
   "cell_type": "markdown",
   "metadata": {},
   "source": [
    "## Converting the price column into numeric"
   ]
  },
  {
   "cell_type": "code",
   "execution_count": 505,
   "metadata": {},
   "outputs": [],
   "source": [
    "df['price'] = pd.to_numeric(df['price'])"
   ]
  },
  {
   "cell_type": "code",
   "execution_count": 506,
   "metadata": {},
   "outputs": [
    {
     "name": "stdout",
     "output_type": "stream",
     "text": [
      "<class 'pandas.core.frame.DataFrame'>\n",
      "RangeIndex: 32 entries, 0 to 31\n",
      "Data columns (total 3 columns):\n",
      " #   Column  Non-Null Count  Dtype  \n",
      "---  ------  --------------  -----  \n",
      " 0   site    32 non-null     object \n",
      " 1   name    32 non-null     object \n",
      " 2   price   31 non-null     float64\n",
      "dtypes: float64(1), object(2)\n",
      "memory usage: 896.0+ bytes\n"
     ]
    }
   ],
   "source": [
    "df.info()"
   ]
  },
  {
   "cell_type": "markdown",
   "metadata": {},
   "source": [
    "## Sorting the dataframe by price"
   ]
  },
  {
   "cell_type": "code",
   "execution_count": 507,
   "metadata": {},
   "outputs": [],
   "source": [
    "df.sort_values(by=['price'],inplace=True)"
   ]
  },
  {
   "cell_type": "code",
   "execution_count": 508,
   "metadata": {},
   "outputs": [
    {
     "data": {
      "text/html": [
       "<div>\n",
       "<style scoped>\n",
       "    .dataframe tbody tr th:only-of-type {\n",
       "        vertical-align: middle;\n",
       "    }\n",
       "\n",
       "    .dataframe tbody tr th {\n",
       "        vertical-align: top;\n",
       "    }\n",
       "\n",
       "    .dataframe thead th {\n",
       "        text-align: right;\n",
       "    }\n",
       "</style>\n",
       "<table border=\"1\" class=\"dataframe\">\n",
       "  <thead>\n",
       "    <tr style=\"text-align: right;\">\n",
       "      <th></th>\n",
       "      <th>site</th>\n",
       "      <th>name</th>\n",
       "      <th>price</th>\n",
       "    </tr>\n",
       "  </thead>\n",
       "  <tbody>\n",
       "    <tr>\n",
       "      <th>29</th>\n",
       "      <td>snapdeal</td>\n",
       "      <td>Laptop Skin Dell logo_symbol Premium Matte vin...</td>\n",
       "      <td>169.0</td>\n",
       "    </tr>\n",
       "    <tr>\n",
       "      <th>28</th>\n",
       "      <td>snapdeal</td>\n",
       "      <td>Laptop Skin Dell_symbol Premium Matte vinyl HD...</td>\n",
       "      <td>169.0</td>\n",
       "    </tr>\n",
       "    <tr>\n",
       "      <th>27</th>\n",
       "      <td>snapdeal</td>\n",
       "      <td>KALARKARI Laptop Skin DellBrand Premium Matte ...</td>\n",
       "      <td>169.0</td>\n",
       "    </tr>\n",
       "    <tr>\n",
       "      <th>31</th>\n",
       "      <td>snapdeal</td>\n",
       "      <td>RADANYA Laptop Skins Stickers | Fits Dell, Hp,...</td>\n",
       "      <td>189.0</td>\n",
       "    </tr>\n",
       "    <tr>\n",
       "      <th>30</th>\n",
       "      <td>snapdeal</td>\n",
       "      <td>MeSleep Dell Vs Apple Laptop Decal</td>\n",
       "      <td>189.0</td>\n",
       "    </tr>\n",
       "    <tr>\n",
       "      <th>15</th>\n",
       "      <td>flipkart</td>\n",
       "      <td>DELL Vostro Core i3 10th Gen - (8 GB/256 GB SS...</td>\n",
       "      <td>37990.0</td>\n",
       "    </tr>\n",
       "    <tr>\n",
       "      <th>16</th>\n",
       "      <td>flipkart</td>\n",
       "      <td>DELL Vostro Core i3 10th Gen - (4 GB/256 GB SS...</td>\n",
       "      <td>38190.0</td>\n",
       "    </tr>\n",
       "    <tr>\n",
       "      <th>6</th>\n",
       "      <td>amazon</td>\n",
       "      <td>Dell New Inspiron 5410 2in1 Laptop Intel i3-11...</td>\n",
       "      <td>38490.0</td>\n",
       "    </tr>\n",
       "    <tr>\n",
       "      <th>3</th>\n",
       "      <td>amazon</td>\n",
       "      <td>Dell New Vostro 3400 Laptop Intel i5-1135G7, 1...</td>\n",
       "      <td>38890.0</td>\n",
       "    </tr>\n",
       "    <tr>\n",
       "      <th>19</th>\n",
       "      <td>flipkart</td>\n",
       "      <td>DELL Vostro Core i3 11th Gen - (8 GB/256 GB SS...</td>\n",
       "      <td>38990.0</td>\n",
       "    </tr>\n",
       "    <tr>\n",
       "      <th>14</th>\n",
       "      <td>flipkart</td>\n",
       "      <td>DELL Vostro Core i3 11th Gen - (8 GB/256 GB SS...</td>\n",
       "      <td>38990.0</td>\n",
       "    </tr>\n",
       "    <tr>\n",
       "      <th>22</th>\n",
       "      <td>flipkart</td>\n",
       "      <td>DELL Ryzen 3 Dual Core 3250U - (8 GB/256 GB SS...</td>\n",
       "      <td>39390.0</td>\n",
       "    </tr>\n",
       "    <tr>\n",
       "      <th>21</th>\n",
       "      <td>flipkart</td>\n",
       "      <td>DELL Inspiron Core i3 10th Gen - (4 GB/256 GB ...</td>\n",
       "      <td>39490.0</td>\n",
       "    </tr>\n",
       "    <tr>\n",
       "      <th>8</th>\n",
       "      <td>amazon</td>\n",
       "      <td>Dell Vostro 3510 Laptop |15.6-inch FHD | Core ...</td>\n",
       "      <td>41199.0</td>\n",
       "    </tr>\n",
       "    <tr>\n",
       "      <th>17</th>\n",
       "      <td>flipkart</td>\n",
       "      <td>DELL Inspiron Core i3 11th Gen - (8 GB/1 TB HD...</td>\n",
       "      <td>42590.0</td>\n",
       "    </tr>\n",
       "    <tr>\n",
       "      <th>25</th>\n",
       "      <td>flipkart</td>\n",
       "      <td>DELL Inspiron Core i3 10th Gen - (8 GB/512 GB ...</td>\n",
       "      <td>47990.0</td>\n",
       "    </tr>\n",
       "    <tr>\n",
       "      <th>23</th>\n",
       "      <td>flipkart</td>\n",
       "      <td>DELL Inspiron Core i3 11th Gen - (8 GB/256 GB ...</td>\n",
       "      <td>49990.0</td>\n",
       "    </tr>\n",
       "    <tr>\n",
       "      <th>11</th>\n",
       "      <td>amazon</td>\n",
       "      <td>Dell New 14 AMD Ryzen 3-3250U 14 inches FHD Di...</td>\n",
       "      <td>50590.0</td>\n",
       "    </tr>\n",
       "    <tr>\n",
       "      <th>9</th>\n",
       "      <td>amazon</td>\n",
       "      <td>Dell Inspiron 14 5410 Laptop |14'' inch FHD |I...</td>\n",
       "      <td>53990.0</td>\n",
       "    </tr>\n",
       "    <tr>\n",
       "      <th>24</th>\n",
       "      <td>flipkart</td>\n",
       "      <td>DELL Vostro Ryzen 5 Hexa Core 5500U - (8 GB/51...</td>\n",
       "      <td>53990.0</td>\n",
       "    </tr>\n",
       "  </tbody>\n",
       "</table>\n",
       "</div>"
      ],
      "text/plain": [
       "        site                                               name    price\n",
       "29  snapdeal  Laptop Skin Dell logo_symbol Premium Matte vin...    169.0\n",
       "28  snapdeal  Laptop Skin Dell_symbol Premium Matte vinyl HD...    169.0\n",
       "27  snapdeal  KALARKARI Laptop Skin DellBrand Premium Matte ...    169.0\n",
       "31  snapdeal  RADANYA Laptop Skins Stickers | Fits Dell, Hp,...    189.0\n",
       "30  snapdeal                 MeSleep Dell Vs Apple Laptop Decal    189.0\n",
       "15  flipkart  DELL Vostro Core i3 10th Gen - (8 GB/256 GB SS...  37990.0\n",
       "16  flipkart  DELL Vostro Core i3 10th Gen - (4 GB/256 GB SS...  38190.0\n",
       "6     amazon  Dell New Inspiron 5410 2in1 Laptop Intel i3-11...  38490.0\n",
       "3     amazon  Dell New Vostro 3400 Laptop Intel i5-1135G7, 1...  38890.0\n",
       "19  flipkart  DELL Vostro Core i3 11th Gen - (8 GB/256 GB SS...  38990.0\n",
       "14  flipkart  DELL Vostro Core i3 11th Gen - (8 GB/256 GB SS...  38990.0\n",
       "22  flipkart  DELL Ryzen 3 Dual Core 3250U - (8 GB/256 GB SS...  39390.0\n",
       "21  flipkart  DELL Inspiron Core i3 10th Gen - (4 GB/256 GB ...  39490.0\n",
       "8     amazon  Dell Vostro 3510 Laptop |15.6-inch FHD | Core ...  41199.0\n",
       "17  flipkart  DELL Inspiron Core i3 11th Gen - (8 GB/1 TB HD...  42590.0\n",
       "25  flipkart  DELL Inspiron Core i3 10th Gen - (8 GB/512 GB ...  47990.0\n",
       "23  flipkart  DELL Inspiron Core i3 11th Gen - (8 GB/256 GB ...  49990.0\n",
       "11    amazon  Dell New 14 AMD Ryzen 3-3250U 14 inches FHD Di...  50590.0\n",
       "9     amazon  Dell Inspiron 14 5410 Laptop |14'' inch FHD |I...  53990.0\n",
       "24  flipkart  DELL Vostro Ryzen 5 Hexa Core 5500U - (8 GB/51...  53990.0"
      ]
     },
     "execution_count": 508,
     "metadata": {},
     "output_type": "execute_result"
    }
   ],
   "source": [
    "df.head(20)"
   ]
  }
 ],
 "metadata": {
  "interpreter": {
   "hash": "53b144c10255056ba138318079d6915f61635f604f049884bb1cb292c1bb44d7"
  },
  "kernelspec": {
   "display_name": "Python 3.9.7 ('base')",
   "language": "python",
   "name": "python3"
  },
  "language_info": {
   "codemirror_mode": {
    "name": "ipython",
    "version": 3
   },
   "file_extension": ".py",
   "mimetype": "text/x-python",
   "name": "python",
   "nbconvert_exporter": "python",
   "pygments_lexer": "ipython3",
   "version": "3.9.7"
  },
  "orig_nbformat": 4
 },
 "nbformat": 4,
 "nbformat_minor": 2
}
